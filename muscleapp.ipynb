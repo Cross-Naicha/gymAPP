{
 "cells": [
  {
   "cell_type": "code",
   "execution_count": 27,
   "id": "11219f4f",
   "metadata": {},
   "outputs": [],
   "source": [
    "import json\n",
    "import pandas as pd"
   ]
  },
  {
   "cell_type": "code",
   "execution_count": 28,
   "id": "d7877b16",
   "metadata": {},
   "outputs": [],
   "source": [
    "def load_matrix(matrix_name, matrix_origin='matrices.xlsx'):\n",
    "    matrix = f'{matrix_name} %{matrix_name}'.split(' ')\n",
    "    return {matrix: pd.read_excel(matrix_origin, matrix, header=None) for matrix in matrix}\n",
    "\n",
    "def matrix_intercalation(matrix_x, matrix_name):\n",
    "    cols = []\n",
    "    for i in range(4):\n",
    "        cols.append(matrix_x[matrix_name].iloc[:,i])\n",
    "        cols.append(matrix_x[f'%{matrix_name}'].iloc[:,i])\n",
    "\n",
    "    matrix = pd.concat(cols, axis=1)\n",
    "    matrix.columns = 'r1 w1 r2 w2 r3 w3 r4 w4'.split(' ')\n",
    "    return matrix\n",
    "\n",
    "def matrix_weight_correction(weight, matrix, matrix_name):\n",
    "    matrix[f'%{matrix_name}'] = matrix[f'%{matrix_name}'] * weight"
   ]
  },
  {
   "cell_type": "code",
   "execution_count": 29,
   "id": "4badad17",
   "metadata": {},
   "outputs": [],
   "source": [
    "def matrix_creation(exercise_class, exercise_weight):\n",
    "\n",
    "    exercise_class = 'A' if exercise_class == 1 else 'B'\n",
    "\n",
    "    matrix = load_matrix(exercise_class)\n",
    "    matrix_weight_correction(exercise_weight, matrix, exercise_class)\n",
    "    matrix = matrix_intercalation(matrix, exercise_class)\n",
    "    return matrix"
   ]
  },
  {
   "cell_type": "code",
   "execution_count": null,
   "id": "347157d5",
   "metadata": {},
   "outputs": [],
   "source": [
    "def exercise_extended_calendar_matrix(day, file='rms.xlsx',):\n",
    "    \n",
    "    exercise_extended_calendar = dict()\n",
    "    \n",
    "    exercises_data = pd.read_excel(file, day, header=None)\n",
    "    \n",
    "    for _, row in exercises_data.iterrows():\n",
    "        exercise_name, exercise_rm, exercise_class = row\n",
    "        exercise_extended_calendar.update({exercise_name: matrix_creation(exercise_class, exercise_rm)})\n",
    "\n",
    "    exercises_names = exercises_data[0]\n",
    "\n",
    "    return exercise_extended_calendar, exercises_names\n",
    "\n",
    "def create_json(exercise_extended_calendar, exercises_names, filename=\"routine.json\"):\n",
    "    training_day = {}\n",
    "    for exercise in exercises_names:\n",
    "        training_day[exercise] = exercise_extended_calendar[exercise].iloc[0, :]\n",
    "\n",
    "    training_day_json = {k: v.to_dict() for k, v in training_day.items()}\n",
    "\n",
    "    # Guardar en archivo\n",
    "    with open(filename, \"w\", encoding=\"utf-8\") as f:\n",
    "        json.dump(training_day_json, f, indent=4, ensure_ascii=False)\n",
    "\n",
    "    print(f\"Archivo JSON guardado en {filename}\")"
   ]
  },
  {
   "cell_type": "code",
   "execution_count": 31,
   "id": "8d79ad49",
   "metadata": {},
   "outputs": [],
   "source": [
    "def muscleapp_json(day):\n",
    "    exercise_extended_calendar, exercises_names = exercise_extended_calendar_matrix(day)\n",
    "    create_json(exercise_extended_calendar, exercises_names)"
   ]
  },
  {
   "cell_type": "code",
   "execution_count": 33,
   "id": "a0511b21",
   "metadata": {},
   "outputs": [
    {
     "name": "stdout",
     "output_type": "stream",
     "text": [
      "Archivo JSON guardado en routine.json\n"
     ]
    }
   ],
   "source": [
    "muscleapp_json('D')"
   ]
  }
 ],
 "metadata": {
  "kernelspec": {
   "display_name": "Python 3",
   "language": "python",
   "name": "python3"
  },
  "language_info": {
   "codemirror_mode": {
    "name": "ipython",
    "version": 3
   },
   "file_extension": ".py",
   "mimetype": "text/x-python",
   "name": "python",
   "nbconvert_exporter": "python",
   "pygments_lexer": "ipython3",
   "version": "3.11.4"
  }
 },
 "nbformat": 4,
 "nbformat_minor": 5
}
