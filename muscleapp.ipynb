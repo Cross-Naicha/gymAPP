{
 "cells": [
  {
   "cell_type": "code",
   "execution_count": 221,
   "id": "11219f4f",
   "metadata": {},
   "outputs": [],
   "source": [
    "import pandas as pd"
   ]
  },
  {
   "cell_type": "code",
   "execution_count": 222,
   "id": "d7877b16",
   "metadata": {},
   "outputs": [],
   "source": [
    "def load_matrix(matrix_name, matrix_origin='matrices.xlsx'):\n",
    "    matrix = f'{matrix_name} %{matrix_name}'.split(' ')\n",
    "    return {matrix: pd.read_excel(matrix_origin, matrix, header=None) for matrix in matrix}\n",
    "\n",
    "def matrix_intercalation(matrix_x, matrix_name):\n",
    "    cols = []\n",
    "    for i in range(4):\n",
    "        cols.append(matrix_x[matrix_name].iloc[:,i])\n",
    "        cols.append(matrix_x[f'%{matrix_name}'].iloc[:,i])\n",
    "\n",
    "    matrix = pd.concat(cols, axis=1)\n",
    "    matrix.columns = 'r1 w1 r2 w2 r3 w3 r4 w4'.split(' ')\n",
    "    return matrix\n",
    "\n",
    "def matrix_weight_correction(weight, matrix, matrix_name):\n",
    "    matrix[f'%{matrix_name}'] = matrix[f'%{matrix_name}'] * weight"
   ]
  },
  {
   "cell_type": "code",
   "execution_count": 223,
   "id": "4badad17",
   "metadata": {},
   "outputs": [],
   "source": [
    "def matrix_creation(exercise_class, exercise_weight):\n",
    "\n",
    "    exercise_class = 'A' if exercise_class == 1 else 'B'\n",
    "\n",
    "    matrix = load_matrix(exercise_class)\n",
    "    matrix_weight_correction(exercise_weight, matrix, exercise_class)\n",
    "    matrix = matrix_intercalation(matrix, exercise_class)\n",
    "    return matrix"
   ]
  },
  {
   "cell_type": "code",
   "execution_count": 224,
   "id": "347157d5",
   "metadata": {},
   "outputs": [
    {
     "name": "stdout",
     "output_type": "stream",
     "text": [
      "0          pecho plano\n",
      "1      pecho inclinado\n",
      "2               fondos\n",
      "3            flexiones\n",
      "4            aperturas\n",
      "5            triceps W\n",
      "6    extension triceps\n",
      "Name: 0, dtype: object\n"
     ]
    }
   ],
   "source": [
    "day_exercises = dict()\n",
    "exercises_data = pd.read_excel(\"rms.xlsx\", header=None)\n",
    "for _, row in exercises_data.iterrows():\n",
    "    exercise_name, exercise_rm, exercise_class = row\n",
    "    day_exercises.update({exercise_name: matrix_creation(exercise_class, exercise_rm)})\n",
    "\n",
    "exercises_names = exercises_data[0]\n",
    "print(exercises_names)"
   ]
  },
  {
   "cell_type": "code",
   "execution_count": 225,
   "id": "6f388ffb",
   "metadata": {},
   "outputs": [],
   "source": [
    "training_day = dict()\n",
    "for exercise in exercises_names:\n",
    "    training_day.update({exercise: day_exercises[exercise].iloc[0,:]})"
   ]
  },
  {
   "cell_type": "code",
   "execution_count": 228,
   "id": "51f184cf",
   "metadata": {},
   "outputs": [
    {
     "data": {
      "text/plain": [
       "{'pecho plano': r1     9.00\n",
       " w1    74.25\n",
       " r2     7.00\n",
       " w2    77.00\n",
       " r3     7.00\n",
       " w3    77.00\n",
       " r4     5.00\n",
       " w4    79.75\n",
       " Name: 0, dtype: float64,\n",
       " 'pecho inclinado': r1    12.0\n",
       " w1    11.5\n",
       " r2    16.0\n",
       " w2    12.0\n",
       " r3    16.0\n",
       " w3    12.0\n",
       " r4    20.0\n",
       " w4    12.5\n",
       " Name: 0, dtype: float64,\n",
       " 'fondos': r1    12.0\n",
       " w1    11.5\n",
       " r2    16.0\n",
       " w2    12.0\n",
       " r3    16.0\n",
       " w3    12.0\n",
       " r4    20.0\n",
       " w4    12.5\n",
       " Name: 0, dtype: float64,\n",
       " 'flexiones': r1    12.0\n",
       " w1     0.0\n",
       " r2    16.0\n",
       " w2     0.0\n",
       " r3    16.0\n",
       " w3     0.0\n",
       " r4    20.0\n",
       " w4     0.0\n",
       " Name: 0, dtype: float64,\n",
       " 'aperturas': r1    12.00\n",
       " w1     3.45\n",
       " r2    16.00\n",
       " w2     3.60\n",
       " r3    16.00\n",
       " w3     3.60\n",
       " r4    20.00\n",
       " w4     3.75\n",
       " Name: 0, dtype: float64,\n",
       " 'triceps W': r1    12.000\n",
       " w1     8.625\n",
       " r2    16.000\n",
       " w2     9.000\n",
       " r3    16.000\n",
       " w3     9.000\n",
       " r4    20.000\n",
       " w4     9.375\n",
       " Name: 0, dtype: float64,\n",
       " 'extension triceps': r1    12.00\n",
       " w1     1.15\n",
       " r2    16.00\n",
       " w2     1.20\n",
       " r3    16.00\n",
       " w3     1.20\n",
       " r4    20.00\n",
       " w4     1.25\n",
       " Name: 0, dtype: float64}"
      ]
     },
     "execution_count": 228,
     "metadata": {},
     "output_type": "execute_result"
    }
   ],
   "source": [
    "training_day"
   ]
  },
  {
   "cell_type": "code",
   "execution_count": 229,
   "id": "f447bbf5",
   "metadata": {},
   "outputs": [
    {
     "name": "stdout",
     "output_type": "stream",
     "text": [
      "{\n",
      "    \"pecho plano\": {\n",
      "        \"r1\": 9.0,\n",
      "        \"w1\": 74.24999999999999,\n",
      "        \"r2\": 7.0,\n",
      "        \"w2\": 77.0,\n",
      "        \"r3\": 7.0,\n",
      "        \"w3\": 77.0,\n",
      "        \"r4\": 5.0,\n",
      "        \"w4\": 79.75\n",
      "    },\n",
      "    \"pecho inclinado\": {\n",
      "        \"r1\": 12.0,\n",
      "        \"w1\": 11.5,\n",
      "        \"r2\": 16.0,\n",
      "        \"w2\": 12.0,\n",
      "        \"r3\": 16.0,\n",
      "        \"w3\": 12.0,\n",
      "        \"r4\": 20.0,\n",
      "        \"w4\": 12.5\n",
      "    },\n",
      "    \"fondos\": {\n",
      "        \"r1\": 12.0,\n",
      "        \"w1\": 11.5,\n",
      "        \"r2\": 16.0,\n",
      "        \"w2\": 12.0,\n",
      "        \"r3\": 16.0,\n",
      "        \"w3\": 12.0,\n",
      "        \"r4\": 20.0,\n",
      "        \"w4\": 12.5\n",
      "    },\n",
      "    \"flexiones\": {\n",
      "        \"r1\": 12.0,\n",
      "        \"w1\": 0.0,\n",
      "        \"r2\": 16.0,\n",
      "        \"w2\": 0.0,\n",
      "        \"r3\": 16.0,\n",
      "        \"w3\": 0.0,\n",
      "        \"r4\": 20.0,\n",
      "        \"w4\": 0.0\n",
      "    },\n",
      "    \"aperturas\": {\n",
      "        \"r1\": 12.0,\n",
      "        \"w1\": 3.4499999999999997,\n",
      "        \"r2\": 16.0,\n",
      "        \"w2\": 3.5999999999999996,\n",
      "        \"r3\": 16.0,\n",
      "        \"w3\": 3.5999999999999996,\n",
      "        \"r4\": 20.0,\n",
      "        \"w4\": 3.75\n",
      "    },\n",
      "    \"triceps W\": {\n",
      "        \"r1\": 12.0,\n",
      "        \"w1\": 8.625,\n",
      "        \"r2\": 16.0,\n",
      "        \"w2\": 9.0,\n",
      "        \"r3\": 16.0,\n",
      "        \"w3\": 9.0,\n",
      "        \"r4\": 20.0,\n",
      "        \"w4\": 9.375\n",
      "    },\n",
      "    \"extension triceps\": {\n",
      "        \"r1\": 12.0,\n",
      "        \"w1\": 1.15,\n",
      "        \"r2\": 16.0,\n",
      "        \"w2\": 1.2,\n",
      "        \"r3\": 16.0,\n",
      "        \"w3\": 1.2,\n",
      "        \"r4\": 20.0,\n",
      "        \"w4\": 1.25\n",
      "    }\n",
      "}\n"
     ]
    }
   ],
   "source": [
    "import json\n",
    "\n",
    "# Supongamos que tu variable se llama \"data\"\n",
    "training_day_json = {k: v.to_dict() for k, v in training_day.items()}\n",
    "\n",
    "# Convertir a JSON string legible\n",
    "json_str = json.dumps(training_day_json, indent=4, ensure_ascii=False)\n",
    "print(json_str)"
   ]
  }
 ],
 "metadata": {
  "kernelspec": {
   "display_name": "Python 3",
   "language": "python",
   "name": "python3"
  },
  "language_info": {
   "codemirror_mode": {
    "name": "ipython",
    "version": 3
   },
   "file_extension": ".py",
   "mimetype": "text/x-python",
   "name": "python",
   "nbconvert_exporter": "python",
   "pygments_lexer": "ipython3",
   "version": "3.11.4"
  }
 },
 "nbformat": 4,
 "nbformat_minor": 5
}
